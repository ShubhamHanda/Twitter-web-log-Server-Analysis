{
 "cells": [
  {
   "cell_type": "code",
   "execution_count": 117,
   "metadata": {},
   "outputs": [],
   "source": [
    "import pandas as pd\n",
    "import numpy as np\n",
    "import re\n",
    "import matplotlib.pyplot as plt"
   ]
  },
  {
   "cell_type": "code",
   "execution_count": 118,
   "metadata": {},
   "outputs": [],
   "source": [
    "pd.set_option('display.max_columns', 5400)\n",
    "# \"The maximum width in characters of a column\"\n",
    "pd.set_option('display.max_colwidth', 500)"
   ]
  },
  {
   "cell_type": "code",
   "execution_count": 3,
   "metadata": {},
   "outputs": [],
   "source": [
    "df = pd.read_csv('access_log_Aug95', sep='delimiter', header=None, engine='python')"
   ]
  },
  {
   "cell_type": "code",
   "execution_count": 4,
   "metadata": {},
   "outputs": [
    {
     "data": {
      "text/html": [
       "<div>\n",
       "<style scoped>\n",
       "    .dataframe tbody tr th:only-of-type {\n",
       "        vertical-align: middle;\n",
       "    }\n",
       "\n",
       "    .dataframe tbody tr th {\n",
       "        vertical-align: top;\n",
       "    }\n",
       "\n",
       "    .dataframe thead th {\n",
       "        text-align: right;\n",
       "    }\n",
       "</style>\n",
       "<table border=\"1\" class=\"dataframe\">\n",
       "  <thead>\n",
       "    <tr style=\"text-align: right;\">\n",
       "      <th></th>\n",
       "      <th>0</th>\n",
       "    </tr>\n",
       "  </thead>\n",
       "  <tbody>\n",
       "    <tr>\n",
       "      <th>0</th>\n",
       "      <td>in24.inetnebr.com - - [01/Aug/1995:00:00:01 -0400] \"GET /shuttle/missions/sts-68/news/sts-68-mcc-05.txt HTTP/1.0\" 200 1839</td>\n",
       "    </tr>\n",
       "    <tr>\n",
       "      <th>1</th>\n",
       "      <td>uplherc.upl.com - - [01/Aug/1995:00:00:07 -0400] \"GET / HTTP/1.0\" 304 0</td>\n",
       "    </tr>\n",
       "    <tr>\n",
       "      <th>2</th>\n",
       "      <td>uplherc.upl.com - - [01/Aug/1995:00:00:08 -0400] \"GET /images/ksclogo-medium.gif HTTP/1.0\" 304 0</td>\n",
       "    </tr>\n",
       "    <tr>\n",
       "      <th>3</th>\n",
       "      <td>uplherc.upl.com - - [01/Aug/1995:00:00:08 -0400] \"GET /images/MOSAIC-logosmall.gif HTTP/1.0\" 304 0</td>\n",
       "    </tr>\n",
       "    <tr>\n",
       "      <th>4</th>\n",
       "      <td>uplherc.upl.com - - [01/Aug/1995:00:00:08 -0400] \"GET /images/USA-logosmall.gif HTTP/1.0\" 304 0</td>\n",
       "    </tr>\n",
       "  </tbody>\n",
       "</table>\n",
       "</div>"
      ],
      "text/plain": [
       "                                                                                                                            0\n",
       "0  in24.inetnebr.com - - [01/Aug/1995:00:00:01 -0400] \"GET /shuttle/missions/sts-68/news/sts-68-mcc-05.txt HTTP/1.0\" 200 1839\n",
       "1                                                     uplherc.upl.com - - [01/Aug/1995:00:00:07 -0400] \"GET / HTTP/1.0\" 304 0\n",
       "2                            uplherc.upl.com - - [01/Aug/1995:00:00:08 -0400] \"GET /images/ksclogo-medium.gif HTTP/1.0\" 304 0\n",
       "3                          uplherc.upl.com - - [01/Aug/1995:00:00:08 -0400] \"GET /images/MOSAIC-logosmall.gif HTTP/1.0\" 304 0\n",
       "4                             uplherc.upl.com - - [01/Aug/1995:00:00:08 -0400] \"GET /images/USA-logosmall.gif HTTP/1.0\" 304 0"
      ]
     },
     "execution_count": 4,
     "metadata": {},
     "output_type": "execute_result"
    }
   ],
   "source": [
    "df.head(5)"
   ]
  },
  {
   "cell_type": "code",
   "execution_count": 5,
   "metadata": {},
   "outputs": [],
   "source": [
    "date_regex = r'\\[(.+)\\]'\n",
    "date_df = [re.search(date_regex,record).group(1)\n",
    "          if re.search(date_regex, record)\n",
    "          else 'no match found'\n",
    "          for record in df[0]]\n",
    "df['date'] = date_df"
   ]
  },
  {
   "cell_type": "code",
   "execution_count": 6,
   "metadata": {},
   "outputs": [],
   "source": [
    "status_regex = r'\\s(\\d{3})\\s'\n",
    "status_df = [re.search(status_regex,record).group(1)\n",
    "          if re.search(status_regex, record)\n",
    "          else 'no match found'\n",
    "          for record in df[0]]\n",
    "df['status'] = status_df"
   ]
  },
  {
   "cell_type": "code",
   "execution_count": 7,
   "metadata": {},
   "outputs": [],
   "source": [
    "bytes_regex = r'\\d{3}\\s(\\d+)$'\n",
    "bytes_df = [re.search(bytes_regex,record).group(1)\n",
    "          if re.search(bytes_regex, record)\n",
    "          else 'no match found'\n",
    "          for record in df[0]]\n",
    "df['bytes'] = bytes_df"
   ]
  },
  {
   "cell_type": "code",
   "execution_count": 8,
   "metadata": {
    "scrolled": true
   },
   "outputs": [],
   "source": [
    "resource_regex = r'\"(\\w+)\\s(.+?)(?=(\\sHTTP\\/1.0\")|\")'\n",
    "resource_df = [re.search(resource_regex,record).group(2)\n",
    "          if re.search(resource_regex, record)\n",
    "          else 'no match found'\n",
    "          for record in df[0]]\n",
    "df['resource'] = resource_df"
   ]
  },
  {
   "cell_type": "code",
   "execution_count": 9,
   "metadata": {},
   "outputs": [],
   "source": [
    "del df[0]"
   ]
  },
  {
   "cell_type": "code",
   "execution_count": 10,
   "metadata": {},
   "outputs": [
    {
     "data": {
      "text/html": [
       "<div>\n",
       "<style scoped>\n",
       "    .dataframe tbody tr th:only-of-type {\n",
       "        vertical-align: middle;\n",
       "    }\n",
       "\n",
       "    .dataframe tbody tr th {\n",
       "        vertical-align: top;\n",
       "    }\n",
       "\n",
       "    .dataframe thead th {\n",
       "        text-align: right;\n",
       "    }\n",
       "</style>\n",
       "<table border=\"1\" class=\"dataframe\">\n",
       "  <thead>\n",
       "    <tr style=\"text-align: right;\">\n",
       "      <th></th>\n",
       "      <th>date</th>\n",
       "      <th>status</th>\n",
       "      <th>bytes</th>\n",
       "      <th>resource</th>\n",
       "    </tr>\n",
       "  </thead>\n",
       "  <tbody>\n",
       "    <tr>\n",
       "      <th>0</th>\n",
       "      <td>01/Aug/1995:00:00:01 -0400</td>\n",
       "      <td>200</td>\n",
       "      <td>1839</td>\n",
       "      <td>/shuttle/missions/sts-68/news/sts-68-mcc-05.txt</td>\n",
       "    </tr>\n",
       "    <tr>\n",
       "      <th>1</th>\n",
       "      <td>01/Aug/1995:00:00:07 -0400</td>\n",
       "      <td>304</td>\n",
       "      <td>0</td>\n",
       "      <td>/</td>\n",
       "    </tr>\n",
       "    <tr>\n",
       "      <th>2</th>\n",
       "      <td>01/Aug/1995:00:00:08 -0400</td>\n",
       "      <td>304</td>\n",
       "      <td>0</td>\n",
       "      <td>/images/ksclogo-medium.gif</td>\n",
       "    </tr>\n",
       "    <tr>\n",
       "      <th>3</th>\n",
       "      <td>01/Aug/1995:00:00:08 -0400</td>\n",
       "      <td>304</td>\n",
       "      <td>0</td>\n",
       "      <td>/images/MOSAIC-logosmall.gif</td>\n",
       "    </tr>\n",
       "    <tr>\n",
       "      <th>4</th>\n",
       "      <td>01/Aug/1995:00:00:08 -0400</td>\n",
       "      <td>304</td>\n",
       "      <td>0</td>\n",
       "      <td>/images/USA-logosmall.gif</td>\n",
       "    </tr>\n",
       "    <tr>\n",
       "      <th>5</th>\n",
       "      <td>01/Aug/1995:00:00:09 -0400</td>\n",
       "      <td>200</td>\n",
       "      <td>1713</td>\n",
       "      <td>/images/launch-logo.gif</td>\n",
       "    </tr>\n",
       "    <tr>\n",
       "      <th>6</th>\n",
       "      <td>01/Aug/1995:00:00:10 -0400</td>\n",
       "      <td>304</td>\n",
       "      <td>0</td>\n",
       "      <td>/images/WORLD-logosmall.gif</td>\n",
       "    </tr>\n",
       "    <tr>\n",
       "      <th>7</th>\n",
       "      <td>01/Aug/1995:00:00:10 -0400</td>\n",
       "      <td>200</td>\n",
       "      <td>1687</td>\n",
       "      <td>/history/skylab/skylab.html</td>\n",
       "    </tr>\n",
       "    <tr>\n",
       "      <th>8</th>\n",
       "      <td>01/Aug/1995:00:00:10 -0400</td>\n",
       "      <td>200</td>\n",
       "      <td>11853</td>\n",
       "      <td>/images/launchmedium.gif</td>\n",
       "    </tr>\n",
       "    <tr>\n",
       "      <th>9</th>\n",
       "      <td>01/Aug/1995:00:00:11 -0400</td>\n",
       "      <td>200</td>\n",
       "      <td>9202</td>\n",
       "      <td>/history/skylab/skylab-small.gif</td>\n",
       "    </tr>\n",
       "    <tr>\n",
       "      <th>10</th>\n",
       "      <td>01/Aug/1995:00:00:12 -0400</td>\n",
       "      <td>200</td>\n",
       "      <td>3635</td>\n",
       "      <td>/images/ksclogosmall.gif</td>\n",
       "    </tr>\n",
       "    <tr>\n",
       "      <th>11</th>\n",
       "      <td>01/Aug/1995:00:00:12 -0400</td>\n",
       "      <td>200</td>\n",
       "      <td>1173</td>\n",
       "      <td>/history/apollo/images/apollo-logo1.gif</td>\n",
       "    </tr>\n",
       "    <tr>\n",
       "      <th>12</th>\n",
       "      <td>01/Aug/1995:00:00:13 -0400</td>\n",
       "      <td>200</td>\n",
       "      <td>3047</td>\n",
       "      <td>/history/apollo/images/apollo-logo.gif</td>\n",
       "    </tr>\n",
       "    <tr>\n",
       "      <th>13</th>\n",
       "      <td>01/Aug/1995:00:00:14 -0400</td>\n",
       "      <td>304</td>\n",
       "      <td>0</td>\n",
       "      <td>/images/NASA-logosmall.gif</td>\n",
       "    </tr>\n",
       "    <tr>\n",
       "      <th>14</th>\n",
       "      <td>01/Aug/1995:00:00:16 -0400</td>\n",
       "      <td>200</td>\n",
       "      <td>10566</td>\n",
       "      <td>/shuttle/missions/sts-69/mission-sts-69.html</td>\n",
       "    </tr>\n",
       "  </tbody>\n",
       "</table>\n",
       "</div>"
      ],
      "text/plain": [
       "                          date status  bytes  \\\n",
       "0   01/Aug/1995:00:00:01 -0400    200   1839   \n",
       "1   01/Aug/1995:00:00:07 -0400    304      0   \n",
       "2   01/Aug/1995:00:00:08 -0400    304      0   \n",
       "3   01/Aug/1995:00:00:08 -0400    304      0   \n",
       "4   01/Aug/1995:00:00:08 -0400    304      0   \n",
       "5   01/Aug/1995:00:00:09 -0400    200   1713   \n",
       "6   01/Aug/1995:00:00:10 -0400    304      0   \n",
       "7   01/Aug/1995:00:00:10 -0400    200   1687   \n",
       "8   01/Aug/1995:00:00:10 -0400    200  11853   \n",
       "9   01/Aug/1995:00:00:11 -0400    200   9202   \n",
       "10  01/Aug/1995:00:00:12 -0400    200   3635   \n",
       "11  01/Aug/1995:00:00:12 -0400    200   1173   \n",
       "12  01/Aug/1995:00:00:13 -0400    200   3047   \n",
       "13  01/Aug/1995:00:00:14 -0400    304      0   \n",
       "14  01/Aug/1995:00:00:16 -0400    200  10566   \n",
       "\n",
       "                                           resource  \n",
       "0   /shuttle/missions/sts-68/news/sts-68-mcc-05.txt  \n",
       "1                                                 /  \n",
       "2                        /images/ksclogo-medium.gif  \n",
       "3                      /images/MOSAIC-logosmall.gif  \n",
       "4                         /images/USA-logosmall.gif  \n",
       "5                           /images/launch-logo.gif  \n",
       "6                       /images/WORLD-logosmall.gif  \n",
       "7                       /history/skylab/skylab.html  \n",
       "8                          /images/launchmedium.gif  \n",
       "9                  /history/skylab/skylab-small.gif  \n",
       "10                         /images/ksclogosmall.gif  \n",
       "11          /history/apollo/images/apollo-logo1.gif  \n",
       "12           /history/apollo/images/apollo-logo.gif  \n",
       "13                       /images/NASA-logosmall.gif  \n",
       "14     /shuttle/missions/sts-69/mission-sts-69.html  "
      ]
     },
     "execution_count": 10,
     "metadata": {},
     "output_type": "execute_result"
    }
   ],
   "source": [
    "df.head(15)"
   ]
  },
  {
   "cell_type": "code",
   "execution_count": 11,
   "metadata": {},
   "outputs": [
    {
     "name": "stdout",
     "output_type": "stream",
     "text": [
      "                               date status           bytes  \\\n",
      "158      01/Aug/1995:00:03:53 -0400    302  no match found   \n",
      "321      01/Aug/1995:00:07:33 -0400    404  no match found   \n",
      "779      01/Aug/1995:00:28:41 -0400    404  no match found   \n",
      "1066     01/Aug/1995:00:38:01 -0400    403  no match found   \n",
      "1426     01/Aug/1995:00:50:12 -0400    404  no match found   \n",
      "1730     01/Aug/1995:01:04:54 -0400    404  no match found   \n",
      "1735     01/Aug/1995:01:05:14 -0400    404  no match found   \n",
      "2021     01/Aug/1995:01:17:38 -0400    404  no match found   \n",
      "2072     01/Aug/1995:01:22:07 -0400    302  no match found   \n",
      "2303     01/Aug/1995:01:31:56 -0400    302  no match found   \n",
      "2352     01/Aug/1995:01:33:02 -0400    404  no match found   \n",
      "2451     01/Aug/1995:01:35:50 -0400    404  no match found   \n",
      "2474     01/Aug/1995:01:36:23 -0400    404  no match found   \n",
      "2477     01/Aug/1995:01:36:30 -0400    404  no match found   \n",
      "2483     01/Aug/1995:01:36:38 -0400    404  no match found   \n",
      "2486     01/Aug/1995:01:36:42 -0400    404  no match found   \n",
      "2487     01/Aug/1995:01:36:44 -0400    404  no match found   \n",
      "2488     01/Aug/1995:01:36:47 -0400    404  no match found   \n",
      "2501     01/Aug/1995:01:37:04 -0400    404  no match found   \n",
      "2503     01/Aug/1995:01:37:05 -0400    404  no match found   \n",
      "2504     01/Aug/1995:01:37:08 -0400    404  no match found   \n",
      "2692     01/Aug/1995:01:42:53 -0400    302  no match found   \n",
      "2722     01/Aug/1995:01:44:06 -0400    404  no match found   \n",
      "2807     01/Aug/1995:01:48:29 -0400    404  no match found   \n",
      "2811     01/Aug/1995:01:48:48 -0400    404  no match found   \n",
      "2975     01/Aug/1995:01:57:51 -0400    404  no match found   \n",
      "2976     01/Aug/1995:01:57:57 -0400    404  no match found   \n",
      "2981     01/Aug/1995:01:58:33 -0400    302  no match found   \n",
      "3717     01/Aug/1995:02:38:11 -0400    404  no match found   \n",
      "3723     01/Aug/1995:02:38:19 -0400    404  no match found   \n",
      "...                             ...    ...             ...   \n",
      "1567847  31/Aug/1995:23:08:40 -0400    404  no match found   \n",
      "1567862  31/Aug/1995:23:09:01 -0400    404  no match found   \n",
      "1567876  31/Aug/1995:23:09:12 -0400    404  no match found   \n",
      "1567928  31/Aug/1995:23:10:43 -0400    302  no match found   \n",
      "1567955  31/Aug/1995:23:11:14 -0400    404  no match found   \n",
      "1567983  31/Aug/1995:23:11:33 -0400    404  no match found   \n",
      "1567988  31/Aug/1995:23:11:40 -0400    404  no match found   \n",
      "1567996  31/Aug/1995:23:11:55 -0400    404  no match found   \n",
      "1567999  31/Aug/1995:23:12:02 -0400    404  no match found   \n",
      "1568019  31/Aug/1995:23:12:38 -0400    404  no match found   \n",
      "1568029  31/Aug/1995:23:12:51 -0400    404  no match found   \n",
      "1568038  31/Aug/1995:23:13:14 -0400    404  no match found   \n",
      "1568124  31/Aug/1995:23:15:37 -0400    404  no match found   \n",
      "1568148  31/Aug/1995:23:16:06 -0400    404  no match found   \n",
      "1568150  31/Aug/1995:23:16:09 -0400    302  no match found   \n",
      "1568166  31/Aug/1995:23:16:23 -0400    404  no match found   \n",
      "1568200  31/Aug/1995:23:16:59 -0400    404  no match found   \n",
      "1568218  31/Aug/1995:23:17:31 -0400    404  no match found   \n",
      "1568223  31/Aug/1995:23:17:38 -0400    404  no match found   \n",
      "1568238  31/Aug/1995:23:18:13 -0400    302  no match found   \n",
      "1568509  31/Aug/1995:23:25:01 -0400    404  no match found   \n",
      "1568839  31/Aug/1995:23:31:10 -0400    404  no match found   \n",
      "1568846  31/Aug/1995:23:31:22 -0400    404  no match found   \n",
      "1569117  31/Aug/1995:23:37:25 -0400    302  no match found   \n",
      "1569388  31/Aug/1995:23:41:52 -0400    404  no match found   \n",
      "1569432  31/Aug/1995:23:43:50 -0400    404  no match found   \n",
      "1569439  31/Aug/1995:23:44:03 -0400    404  no match found   \n",
      "1569444  31/Aug/1995:23:44:22 -0400    404  no match found   \n",
      "1569570  31/Aug/1995:23:49:03 -0400    404  no match found   \n",
      "1569576  31/Aug/1995:23:49:12 -0400    302  no match found   \n",
      "\n",
      "                                                  resource  \n",
      "158                          /shuttle/missions/sts-73/news  \n",
      "321              /shuttle/resources/orbiters/discovery.gif  \n",
      "779                                 /pub/winvn/release.txt  \n",
      "1066                        /ksc.html/facts/about_ksc.html  \n",
      "1426                        /www/software/winvn/winvn.html  \n",
      "1730                                  /history/history.htm  \n",
      "1735                                 /elv/DELTA/uncons.htm  \n",
      "2021                                       /sts-71/launch/  \n",
      "2072                                    /shuttle/countdown  \n",
      "2303                                              /shuttle  \n",
      "2352                        /history/apollo/apollo-13.html  \n",
      "2451           /history/apollo/a-001/a-001-patch-small.gif  \n",
      "2474                         /history/apollo/a-001/movies/  \n",
      "2477           /history/apollo/a-001/a-001-patch-small.gif  \n",
      "2483                         /history/apollo/a-001/movies/  \n",
      "2486           /history/apollo/a-001/a-001-patch-small.gif  \n",
      "2487                         /history/apollo/a-001/images/  \n",
      "2488           /history/apollo/a-001/a-001-patch-small.gif  \n",
      "2501           /history/apollo/a-004/a-004-patch-small.gif  \n",
      "2503                         /history/apollo/a-004/movies/  \n",
      "2504           /history/apollo/a-004/a-004-patch-small.gif  \n",
      "2692                                             /software  \n",
      "2722                                /pub/winvn/release.txt  \n",
      "2807                                 /pub/winvn/readme.txt  \n",
      "2811                                /pub/winvn/release.txt  \n",
      "2975                                 /pub/winvn/readme.txt  \n",
      "2976                                /pub/winvn/release.txt  \n",
      "2981                         /shuttle/missions/sts-70/news  \n",
      "3717              /shuttle/resources/orbiters/atlantis.gif  \n",
      "3723              /shuttle/resources/orbiters/atlantis.gif  \n",
      "...                                                    ...  \n",
      "1567847      /shuttle/missions/sts-69/images/contact69.gif  \n",
      "1567862      /shuttle/missions/sts-69/images/contact69.gif  \n",
      "1567876      /shuttle/missions/sts-69/images/contact69.gif  \n",
      "1567928                      /shuttle/missions/sts-73/news  \n",
      "1567955      /shuttle/missions/sts-69/images/contact69.gif  \n",
      "1567983      /shuttle/missions/sts-69/images/contact69.gif  \n",
      "1567988      /shuttle/missions/sts-69/images/contact69.gif  \n",
      "1567996      /shuttle/missions/sts-69/images/contact69.gif  \n",
      "1567999      /shuttle/missions/sts-69/images/contact69.gif  \n",
      "1568019      /shuttle/missions/sts-69/images/contact69.gif  \n",
      "1568029      /shuttle/missions/sts-69/images/contact69.gif  \n",
      "1568038      /shuttle/missions/sts-69/images/contact69.gif  \n",
      "1568124                              /pub/winvn/readme.txt  \n",
      "1568148                             /pub/winvn/release.txt  \n",
      "1568150                      /shuttle/missions/sts-49/news  \n",
      "1568166                              /pub/winvn/readme.txt  \n",
      "1568200   /shuttle/missions/sts-69/images/contact69?271,60  \n",
      "1568218  /shuttle/missions/sts-69/images/contact69?399,236  \n",
      "1568223  /shuttle/missions/sts-69/images/contact69?399,236  \n",
      "1568238                                 /shuttle/countdown  \n",
      "1568509       /shuttle/missions/sts-69/images/index69.html  \n",
      "1568839                             /pub/winvn/release.txt  \n",
      "1568846                              /pub/winvn/readme.txt  \n",
      "1569117                                 /shuttle/countdown  \n",
      "1569388                      /history/apollo/a-004/images/  \n",
      "1569432                              /pub/winvn/readme.txt  \n",
      "1569439                             /pub/winvn/release.txt  \n",
      "1569444           /shuttle/missions/51-L/mission-51-1.html  \n",
      "1569570           /shuttle/missions/51-L/mission-51-1.html  \n",
      "1569576                      /shuttle/missions/sts-50/news  \n",
      "\n",
      "[14178 rows x 4 columns]\n"
     ]
    }
   ],
   "source": [
    "print(df.loc[df['bytes'] == 'no match found']) "
   ]
  },
  {
   "cell_type": "code",
   "execution_count": 129,
   "metadata": {},
   "outputs": [],
   "source": [
    "df_new = df.loc[df['resource'] != 'no match found']"
   ]
  },
  {
   "cell_type": "code",
   "execution_count": 132,
   "metadata": {},
   "outputs": [],
   "source": [
    "df_new = df_new.loc[df['bytes'] != 'no match found']"
   ]
  },
  {
   "cell_type": "code",
   "execution_count": 130,
   "metadata": {},
   "outputs": [
    {
     "data": {
      "text/plain": [
       "1569898"
      ]
     },
     "execution_count": 130,
     "metadata": {},
     "output_type": "execute_result"
    }
   ],
   "source": [
    "len(df)"
   ]
  },
  {
   "cell_type": "code",
   "execution_count": 131,
   "metadata": {},
   "outputs": [
    {
     "data": {
      "text/plain": [
       "1569888"
      ]
     },
     "execution_count": 131,
     "metadata": {},
     "output_type": "execute_result"
    }
   ],
   "source": [
    "len(df_new)"
   ]
  },
  {
   "cell_type": "code",
   "execution_count": 134,
   "metadata": {},
   "outputs": [
    {
     "data": {
      "text/plain": [
       "pandas.core.series.Series"
      ]
     },
     "execution_count": 134,
     "metadata": {},
     "output_type": "execute_result"
    }
   ],
   "source": [
    "import datetime\n",
    "df_new['date'] = pd.to_datetime(df_new.date,format='%d/%b/%Y:%H:%M:%S -0400')\n",
    "type(df_new['date'])"
   ]
  },
  {
   "cell_type": "code",
   "execution_count": 26,
   "metadata": {},
   "outputs": [
    {
     "data": {
      "text/html": [
       "<div>\n",
       "<style scoped>\n",
       "    .dataframe tbody tr th:only-of-type {\n",
       "        vertical-align: middle;\n",
       "    }\n",
       "\n",
       "    .dataframe tbody tr th {\n",
       "        vertical-align: top;\n",
       "    }\n",
       "\n",
       "    .dataframe thead th {\n",
       "        text-align: right;\n",
       "    }\n",
       "</style>\n",
       "<table border=\"1\" class=\"dataframe\">\n",
       "  <thead>\n",
       "    <tr style=\"text-align: right;\">\n",
       "      <th></th>\n",
       "      <th>date</th>\n",
       "      <th>status</th>\n",
       "      <th>bytes</th>\n",
       "      <th>resource</th>\n",
       "    </tr>\n",
       "  </thead>\n",
       "  <tbody>\n",
       "    <tr>\n",
       "      <th>0</th>\n",
       "      <td>1995-08-01 00:00:01</td>\n",
       "      <td>200</td>\n",
       "      <td>1839</td>\n",
       "      <td>/shuttle/missions/sts-68/news/sts-68-mcc-05.txt</td>\n",
       "    </tr>\n",
       "    <tr>\n",
       "      <th>1</th>\n",
       "      <td>1995-08-01 00:00:07</td>\n",
       "      <td>304</td>\n",
       "      <td>0</td>\n",
       "      <td>/</td>\n",
       "    </tr>\n",
       "    <tr>\n",
       "      <th>2</th>\n",
       "      <td>1995-08-01 00:00:08</td>\n",
       "      <td>304</td>\n",
       "      <td>0</td>\n",
       "      <td>/images/ksclogo-medium.gif</td>\n",
       "    </tr>\n",
       "    <tr>\n",
       "      <th>3</th>\n",
       "      <td>1995-08-01 00:00:08</td>\n",
       "      <td>304</td>\n",
       "      <td>0</td>\n",
       "      <td>/images/MOSAIC-logosmall.gif</td>\n",
       "    </tr>\n",
       "    <tr>\n",
       "      <th>4</th>\n",
       "      <td>1995-08-01 00:00:08</td>\n",
       "      <td>304</td>\n",
       "      <td>0</td>\n",
       "      <td>/images/USA-logosmall.gif</td>\n",
       "    </tr>\n",
       "  </tbody>\n",
       "</table>\n",
       "</div>"
      ],
      "text/plain": [
       "                 date status bytes  \\\n",
       "0 1995-08-01 00:00:01    200  1839   \n",
       "1 1995-08-01 00:00:07    304     0   \n",
       "2 1995-08-01 00:00:08    304     0   \n",
       "3 1995-08-01 00:00:08    304     0   \n",
       "4 1995-08-01 00:00:08    304     0   \n",
       "\n",
       "                                          resource  \n",
       "0  /shuttle/missions/sts-68/news/sts-68-mcc-05.txt  \n",
       "1                                                /  \n",
       "2                       /images/ksclogo-medium.gif  \n",
       "3                     /images/MOSAIC-logosmall.gif  \n",
       "4                        /images/USA-logosmall.gif  "
      ]
     },
     "execution_count": 26,
     "metadata": {},
     "output_type": "execute_result"
    }
   ],
   "source": [
    "df_new.head(5)"
   ]
  },
  {
   "cell_type": "code",
   "execution_count": 28,
   "metadata": {},
   "outputs": [],
   "source": [
    "temp_df = df_new"
   ]
  },
  {
   "cell_type": "code",
   "execution_count": 133,
   "metadata": {},
   "outputs": [],
   "source": [
    "df_new['bytes'] = pd.to_numeric(df_new['bytes'])"
   ]
  },
  {
   "cell_type": "code",
   "execution_count": 35,
   "metadata": {},
   "outputs": [
    {
     "name": "stdout",
     "output_type": "stream",
     "text": [
      "date                                    1995-08-03 15:51:23\n",
      "status                                                  200\n",
      "bytes                                               3421948\n",
      "resource    /statistics/1995/Jul/Jul95_reverse_domains.html\n",
      "Name: 53631, dtype: object\n"
     ]
    }
   ],
   "source": [
    "print(df_new.loc[df_new['bytes'].idxmax()])"
   ]
  },
  {
   "cell_type": "code",
   "execution_count": 36,
   "metadata": {},
   "outputs": [
    {
     "name": "stdout",
     "output_type": "stream",
     "text": [
      "date        1995-08-01 00:00:07\n",
      "status                      304\n",
      "bytes                         0\n",
      "resource                      /\n",
      "Name: 1, dtype: object\n"
     ]
    }
   ],
   "source": [
    "print(df_new.loc[df_new['bytes'].idxmin()])"
   ]
  },
  {
   "cell_type": "code",
   "execution_count": 37,
   "metadata": {},
   "outputs": [
    {
     "name": "stdout",
     "output_type": "stream",
     "text": [
      "17244.9678759674\n"
     ]
    }
   ],
   "source": [
    "print(df_new['bytes'].mean())"
   ]
  },
  {
   "cell_type": "code",
   "execution_count": 38,
   "metadata": {},
   "outputs": [
    {
     "name": "stdout",
     "output_type": "stream",
     "text": [
      "68244.0386593754\n"
     ]
    }
   ],
   "source": [
    "print(df_new['bytes'].std())"
   ]
  },
  {
   "cell_type": "code",
   "execution_count": 39,
   "metadata": {},
   "outputs": [
    {
     "data": {
      "text/plain": [
       "200    1398910\n",
       "304     134146\n",
       "302      22661\n",
       "500          3\n",
       "Name: status, dtype: int64"
      ]
     },
     "execution_count": 39,
     "metadata": {},
     "output_type": "execute_result"
    }
   ],
   "source": [
    "df_new['status'].value_counts()"
   ]
  },
  {
   "cell_type": "code",
   "execution_count": 40,
   "metadata": {},
   "outputs": [],
   "source": [
    "status_df = df_new['status'].value_counts()"
   ]
  },
  {
   "cell_type": "code",
   "execution_count": 43,
   "metadata": {},
   "outputs": [
    {
     "data": {
      "text/plain": [
       "<matplotlib.axes._subplots.AxesSubplot at 0x1da4ccea780>"
      ]
     },
     "execution_count": 43,
     "metadata": {},
     "output_type": "execute_result"
    },
    {
     "data": {
      "image/png": "[encoded data removed]",
      "text/plain": [
       "<Figure size 432x288 with 1 Axes>"
      ]
     },
     "metadata": {
      "needs_background": "light"
     },
     "output_type": "display_data"
    }
   ],
   "source": [
    "status_df.plot(kind='bar')"
   ]
  },
  {
   "cell_type": "code",
   "execution_count": 114,
   "metadata": {},
   "outputs": [
    {
     "data": {
      "text/plain": [
       "(array([3., 0., 0., 0., 0., 0., 0., 0., 0., 1.]),\n",
       " array([3.0000000e+00, 1.3989370e+05, 2.7978440e+05, 4.1967510e+05,\n",
       "        5.5956580e+05, 6.9945650e+05, 8.3934720e+05, 9.7923790e+05,\n",
       "        1.1191286e+06, 1.2590193e+06, 1.3989100e+06]),\n",
       " <a list of 10 Patch objects>)"
      ]
     },
     "execution_count": 114,
     "metadata": {},
     "output_type": "execute_result"
    },
    {
     "data": {
      "image/png": "[encoded data removed]",
      "text/plain": [
       "<Figure size 432x288 with 1 Axes>"
      ]
     },
     "metadata": {
      "needs_background": "light"
     },
     "output_type": "display_data"
    }
   ],
   "source": [
    "plt.hist(status_df, normed=False, bins=10,orientation=\"horizontal\")"
   ]
  },
  {
   "cell_type": "code",
   "execution_count": 113,
   "metadata": {},
   "outputs": [
    {
     "data": {
      "text/plain": [
       "<matplotlib.axes._subplots.AxesSubplot at 0x1da00630518>"
      ]
     },
     "execution_count": 113,
     "metadata": {},
     "output_type": "execute_result"
    },
    {
     "data": {
      "image/png": "[encoded data removed]",
      "text/plain": [
       "<Figure size 432x288 with 1 Axes>"
      ]
     },
     "metadata": {
      "needs_background": "light"
     },
     "output_type": "display_data"
    }
   ],
   "source": [
    "log_status= np.log(status_df)\n",
    "log_status.plot(kind='hist',bins=10)"
   ]
  },
  {
   "cell_type": "code",
   "execution_count": 116,
   "metadata": {},
   "outputs": [
    {
     "data": {
      "text/plain": [
       "<matplotlib.axes._subplots.AxesSubplot at 0x1da00773978>"
      ]
     },
     "execution_count": 116,
     "metadata": {},
     "output_type": "execute_result"
    },
    {
     "data": {
      "image/png": "[encoded data removed]",
      "text/plain": [
       "<Figure size 432x288 with 1 Axes>"
      ]
     },
     "metadata": {
      "needs_background": "light"
     },
     "output_type": "display_data"
    }
   ],
   "source": [
    "log_status= np.log(status_df)\n",
    "log_status.plot(kind='bar')"
   ]
  },
  {
   "cell_type": "code",
   "execution_count": 120,
   "metadata": {},
   "outputs": [],
   "source": [
    "resource_df = df_new['resource'].value_counts()"
   ]
  },
  {
   "cell_type": "code",
   "execution_count": 126,
   "metadata": {},
   "outputs": [
    {
     "name": "stdout",
     "output_type": "stream",
     "text": [
      "/images/NASA-logosmall.gif                         97379\n",
      "/images/KSC-logosmall.gif                          75326\n",
      "/images/MOSAIC-logosmall.gif                       67437\n",
      "/images/USA-logosmall.gif                          67057\n",
      "/images/WORLD-logosmall.gif                        66433\n",
      "/images/ksclogo-medium.gif                         62767\n",
      "/ksc.html                                          43662\n",
      "/history/apollo/images/apollo-logo1.gif            37820\n",
      "/images/launch-logo.gif                            35131\n",
      "/                                                  30305\n",
      "/images/ksclogosmall.gif                           27808\n",
      "/shuttle/missions/sts-69/mission-sts-69.html       24589\n",
      "/shuttle/countdown/                                24450\n",
      "/shuttle/missions/sts-69/count69.gif               24377\n",
      "/shuttle/missions/sts-69/sts-69-patch-small.gif    23400\n",
      "/shuttle/missions/missions.html                    22440\n",
      "/images/launchmedium.gif                           19867\n",
      "/htbin/cdt_main.pl                                 17242\n",
      "/shuttle/countdown/images/countclock.gif           12156\n",
      "/icons/menu.xbm                                    12136\n",
      "Name: resource, dtype: int64\n"
     ]
    }
   ],
   "source": [
    "resource_df = resource_df.head(20)\n",
    "print(resource_df)"
   ]
  },
  {
   "cell_type": "code",
   "execution_count": 77,
   "metadata": {},
   "outputs": [
    {
     "data": {
      "text/plain": [
       "<matplotlib.axes._subplots.AxesSubplot at 0x1da7f9d4860>"
      ]
     },
     "execution_count": 77,
     "metadata": {},
     "output_type": "execute_result"
    },
    {
     "data": {
      "image/png": "[encoded data removed]",
      "text/plain": [
       "<Figure size 432x288 with 1 Axes>"
      ]
     },
     "metadata": {
      "needs_background": "light"
     },
     "output_type": "display_data"
    }
   ],
   "source": [
    "resource_df.plot(kind='bar')"
   ]
  },
  {
   "cell_type": "code",
   "execution_count": null,
   "metadata": {},
   "outputs": [],
   "source": []
  },
  {
   "cell_type": "code",
   "execution_count": null,
   "metadata": {},
   "outputs": [],
   "source": []
  },
  {
   "cell_type": "code",
   "execution_count": 154,
   "metadata": {},
   "outputs": [],
   "source": [
    "df_new['status'] = pd.to_numeric(df_new['status'])"
   ]
  },
  {
   "cell_type": "code",
   "execution_count": 48,
   "metadata": {},
   "outputs": [],
   "source": [
    "error_df = df_new.loc[df_new['status'] !=200]"
   ]
  },
  {
   "cell_type": "code",
   "execution_count": 49,
   "metadata": {},
   "outputs": [],
   "source": [
    "error_resource_df = error_df['resource'].value_counts()"
   ]
  },
  {
   "cell_type": "code",
   "execution_count": 127,
   "metadata": {},
   "outputs": [
    {
     "name": "stdout",
     "output_type": "stream",
     "text": [
      "/images/NASA-logosmall.gif                         19072\n",
      "/images/KSC-logosmall.gif                          11328\n",
      "/images/MOSAIC-logosmall.gif                        8617\n",
      "/images/USA-logosmall.gif                           8565\n",
      "/images/WORLD-logosmall.gif                         8360\n",
      "/images/ksclogo-medium.gif                          7722\n",
      "/history/apollo/images/apollo-logo1.gif             4355\n",
      "/shuttle/countdown/images/countclock.gif            4227\n",
      "/images/launch-logo.gif                             4178\n",
      "/                                                   3605\n",
      "/images/ksclogosmall.gif                            2578\n",
      "/shuttle/missions/sts-69/count69.gif                2442\n",
      "/ksc.html                                           2280\n",
      "/shuttle/countdown/                                 2214\n",
      "/shuttle/missions/sts-69/sts-69-patch-small.gif     2180\n",
      "/shuttle/missions/missions.html                     1736\n",
      "/images/launchmedium.gif                            1532\n",
      "/icons/blank.xbm                                    1475\n",
      "/icons/menu.xbm                                     1411\n",
      "/shuttle/missions/sts-69/mission-sts-69.html        1358\n",
      "Name: resource, dtype: int64\n"
     ]
    }
   ],
   "source": [
    "print(error_resource_df.head(20))"
   ]
  },
  {
   "cell_type": "code",
   "execution_count": 51,
   "metadata": {},
   "outputs": [],
   "source": [
    "error_resource_df = error_resource_df.head(20)"
   ]
  },
  {
   "cell_type": "code",
   "execution_count": 52,
   "metadata": {},
   "outputs": [
    {
     "data": {
      "text/plain": [
       "<matplotlib.axes._subplots.AxesSubplot at 0x1da4ce07860>"
      ]
     },
     "execution_count": 52,
     "metadata": {},
     "output_type": "execute_result"
    },
    {
     "data": {
      "image/png": "[encoded data removed]",
      "text/plain": [
       "<Figure size 432x288 with 1 Axes>"
      ]
     },
     "metadata": {
      "needs_background": "light"
     },
     "output_type": "display_data"
    }
   ],
   "source": [
    "error_resource_df.plot(kind='bar')"
   ]
  },
  {
   "cell_type": "code",
   "execution_count": 140,
   "metadata": {},
   "outputs": [
    {
     "data": {
      "text/plain": [
       "<matplotlib.axes._subplots.AxesSubplot at 0x1da004e17b8>"
      ]
     },
     "execution_count": 140,
     "metadata": {},
     "output_type": "execute_result"
    },
    {
     "data": {
      "image/png": "[encoded data removed]",
      "text/plain": [
       "<Figure size 432x288 with 1 Axes>"
      ]
     },
     "metadata": {
      "needs_background": "light"
     },
     "output_type": "display_data"
    }
   ],
   "source": [
    "error_resource_df.plot(kind='hist',log='true')"
   ]
  },
  {
   "cell_type": "code",
   "execution_count": 155,
   "metadata": {},
   "outputs": [],
   "source": [
    "fulfilled_df = df_new.loc[df_new['status'] ==200]"
   ]
  },
  {
   "cell_type": "code",
   "execution_count": 156,
   "metadata": {},
   "outputs": [
    {
     "name": "stderr",
     "output_type": "stream",
     "text": [
      "C:\\Users\\Dell\\Anaconda3\\lib\\site-packages\\ipykernel_launcher.py:1: SettingWithCopyWarning: \n",
      "A value is trying to be set on a copy of a slice from a DataFrame.\n",
      "Try using .loc[row_indexer,col_indexer] = value instead\n",
      "\n",
      "See the caveats in the documentation: http://pandas.pydata.org/pandas-docs/stable/indexing.html#indexing-view-versus-copy\n",
      "  \"\"\"Entry point for launching an IPython kernel.\n"
     ]
    }
   ],
   "source": [
    "fulfilled_df['day'] = fulfilled_df.date.dt.strftime('%d')"
   ]
  },
  {
   "cell_type": "code",
   "execution_count": 157,
   "metadata": {},
   "outputs": [
    {
     "data": {
      "text/html": [
       "<div>\n",
       "<style scoped>\n",
       "    .dataframe tbody tr th:only-of-type {\n",
       "        vertical-align: middle;\n",
       "    }\n",
       "\n",
       "    .dataframe tbody tr th {\n",
       "        vertical-align: top;\n",
       "    }\n",
       "\n",
       "    .dataframe thead th {\n",
       "        text-align: right;\n",
       "    }\n",
       "</style>\n",
       "<table border=\"1\" class=\"dataframe\">\n",
       "  <thead>\n",
       "    <tr style=\"text-align: right;\">\n",
       "      <th></th>\n",
       "      <th>date</th>\n",
       "      <th>status</th>\n",
       "      <th>bytes</th>\n",
       "      <th>resource</th>\n",
       "      <th>day</th>\n",
       "    </tr>\n",
       "  </thead>\n",
       "  <tbody>\n",
       "    <tr>\n",
       "      <th>0</th>\n",
       "      <td>1995-08-01 00:00:01</td>\n",
       "      <td>200</td>\n",
       "      <td>1839</td>\n",
       "      <td>/shuttle/missions/sts-68/news/sts-68-mcc-05.txt</td>\n",
       "      <td>01</td>\n",
       "    </tr>\n",
       "    <tr>\n",
       "      <th>5</th>\n",
       "      <td>1995-08-01 00:00:09</td>\n",
       "      <td>200</td>\n",
       "      <td>1713</td>\n",
       "      <td>/images/launch-logo.gif</td>\n",
       "      <td>01</td>\n",
       "    </tr>\n",
       "    <tr>\n",
       "      <th>7</th>\n",
       "      <td>1995-08-01 00:00:10</td>\n",
       "      <td>200</td>\n",
       "      <td>1687</td>\n",
       "      <td>/history/skylab/skylab.html</td>\n",
       "      <td>01</td>\n",
       "    </tr>\n",
       "    <tr>\n",
       "      <th>8</th>\n",
       "      <td>1995-08-01 00:00:10</td>\n",
       "      <td>200</td>\n",
       "      <td>11853</td>\n",
       "      <td>/images/launchmedium.gif</td>\n",
       "      <td>01</td>\n",
       "    </tr>\n",
       "    <tr>\n",
       "      <th>9</th>\n",
       "      <td>1995-08-01 00:00:11</td>\n",
       "      <td>200</td>\n",
       "      <td>9202</td>\n",
       "      <td>/history/skylab/skylab-small.gif</td>\n",
       "      <td>01</td>\n",
       "    </tr>\n",
       "  </tbody>\n",
       "</table>\n",
       "</div>"
      ],
      "text/plain": [
       "                 date  status  bytes  \\\n",
       "0 1995-08-01 00:00:01     200   1839   \n",
       "5 1995-08-01 00:00:09     200   1713   \n",
       "7 1995-08-01 00:00:10     200   1687   \n",
       "8 1995-08-01 00:00:10     200  11853   \n",
       "9 1995-08-01 00:00:11     200   9202   \n",
       "\n",
       "                                          resource day  \n",
       "0  /shuttle/missions/sts-68/news/sts-68-mcc-05.txt  01  \n",
       "5                          /images/launch-logo.gif  01  \n",
       "7                      /history/skylab/skylab.html  01  \n",
       "8                         /images/launchmedium.gif  01  \n",
       "9                 /history/skylab/skylab-small.gif  01  "
      ]
     },
     "execution_count": 157,
     "metadata": {},
     "output_type": "execute_result"
    }
   ],
   "source": [
    "fulfilled_df.head(5)"
   ]
  },
  {
   "cell_type": "code",
   "execution_count": 149,
   "metadata": {},
   "outputs": [],
   "source": [
    "day_fulfilled_df = fulfilled_df['day'].value_counts()"
   ]
  },
  {
   "cell_type": "code",
   "execution_count": 158,
   "metadata": {},
   "outputs": [],
   "source": [
    "day_fulfilled_df = day_fulfilled_df.sort_values( ascending=[True])"
   ]
  },
  {
   "cell_type": "code",
   "execution_count": 151,
   "metadata": {},
   "outputs": [
    {
     "name": "stdout",
     "output_type": "stream",
     "text": [
      "Series([], Name: day, dtype: int64)\n"
     ]
    }
   ],
   "source": [
    "print(day_fulfilled_df)"
   ]
  },
  {
   "cell_type": "code",
   "execution_count": 152,
   "metadata": {},
   "outputs": [
    {
     "ename": "TypeError",
     "evalue": "Empty 'DataFrame': no numeric data to plot",
     "output_type": "error",
     "traceback": [
      "\u001b[1;31m---------------------------------------------------------------------------\u001b[0m",
      "\u001b[1;31mTypeError\u001b[0m                                 Traceback (most recent call last)",
      "\u001b[1;32m<ipython-input-152-87782efb03b2>\u001b[0m in \u001b[0;36m<module>\u001b[1;34m\u001b[0m\n\u001b[1;32m----> 1\u001b[1;33m \u001b[0mday_fulfilled_df\u001b[0m\u001b[1;33m.\u001b[0m\u001b[0mplot\u001b[0m\u001b[1;33m(\u001b[0m\u001b[0mkind\u001b[0m\u001b[1;33m=\u001b[0m\u001b[1;34m'bar'\u001b[0m\u001b[1;33m)\u001b[0m\u001b[1;33m\u001b[0m\u001b[1;33m\u001b[0m\u001b[0m\n\u001b[0m",
      "\u001b[1;32m~\\Anaconda3\\lib\\site-packages\\pandas\\plotting\\_core.py\u001b[0m in \u001b[0;36m__call__\u001b[1;34m(self, kind, ax, figsize, use_index, title, grid, legend, style, logx, logy, loglog, xticks, yticks, xlim, ylim, rot, fontsize, colormap, table, yerr, xerr, label, secondary_y, **kwds)\u001b[0m\n\u001b[0;32m   2739\u001b[0m                            \u001b[0mcolormap\u001b[0m\u001b[1;33m=\u001b[0m\u001b[0mcolormap\u001b[0m\u001b[1;33m,\u001b[0m \u001b[0mtable\u001b[0m\u001b[1;33m=\u001b[0m\u001b[0mtable\u001b[0m\u001b[1;33m,\u001b[0m \u001b[0myerr\u001b[0m\u001b[1;33m=\u001b[0m\u001b[0myerr\u001b[0m\u001b[1;33m,\u001b[0m\u001b[1;33m\u001b[0m\u001b[1;33m\u001b[0m\u001b[0m\n\u001b[0;32m   2740\u001b[0m                            \u001b[0mxerr\u001b[0m\u001b[1;33m=\u001b[0m\u001b[0mxerr\u001b[0m\u001b[1;33m,\u001b[0m \u001b[0mlabel\u001b[0m\u001b[1;33m=\u001b[0m\u001b[0mlabel\u001b[0m\u001b[1;33m,\u001b[0m \u001b[0msecondary_y\u001b[0m\u001b[1;33m=\u001b[0m\u001b[0msecondary_y\u001b[0m\u001b[1;33m,\u001b[0m\u001b[1;33m\u001b[0m\u001b[1;33m\u001b[0m\u001b[0m\n\u001b[1;32m-> 2741\u001b[1;33m                            **kwds)\n\u001b[0m\u001b[0;32m   2742\u001b[0m     \u001b[0m__call__\u001b[0m\u001b[1;33m.\u001b[0m\u001b[0m__doc__\u001b[0m \u001b[1;33m=\u001b[0m \u001b[0mplot_series\u001b[0m\u001b[1;33m.\u001b[0m\u001b[0m__doc__\u001b[0m\u001b[1;33m\u001b[0m\u001b[1;33m\u001b[0m\u001b[0m\n\u001b[0;32m   2743\u001b[0m \u001b[1;33m\u001b[0m\u001b[0m\n",
      "\u001b[1;32m~\\Anaconda3\\lib\\site-packages\\pandas\\plotting\\_core.py\u001b[0m in \u001b[0;36mplot_series\u001b[1;34m(data, kind, ax, figsize, use_index, title, grid, legend, style, logx, logy, loglog, xticks, yticks, xlim, ylim, rot, fontsize, colormap, table, yerr, xerr, label, secondary_y, **kwds)\u001b[0m\n\u001b[0;32m   2000\u001b[0m                  \u001b[0myerr\u001b[0m\u001b[1;33m=\u001b[0m\u001b[0myerr\u001b[0m\u001b[1;33m,\u001b[0m \u001b[0mxerr\u001b[0m\u001b[1;33m=\u001b[0m\u001b[0mxerr\u001b[0m\u001b[1;33m,\u001b[0m\u001b[1;33m\u001b[0m\u001b[1;33m\u001b[0m\u001b[0m\n\u001b[0;32m   2001\u001b[0m                  \u001b[0mlabel\u001b[0m\u001b[1;33m=\u001b[0m\u001b[0mlabel\u001b[0m\u001b[1;33m,\u001b[0m \u001b[0msecondary_y\u001b[0m\u001b[1;33m=\u001b[0m\u001b[0msecondary_y\u001b[0m\u001b[1;33m,\u001b[0m\u001b[1;33m\u001b[0m\u001b[1;33m\u001b[0m\u001b[0m\n\u001b[1;32m-> 2002\u001b[1;33m                  **kwds)\n\u001b[0m\u001b[0;32m   2003\u001b[0m \u001b[1;33m\u001b[0m\u001b[0m\n\u001b[0;32m   2004\u001b[0m \u001b[1;33m\u001b[0m\u001b[0m\n",
      "\u001b[1;32m~\\Anaconda3\\lib\\site-packages\\pandas\\plotting\\_core.py\u001b[0m in \u001b[0;36m_plot\u001b[1;34m(data, x, y, subplots, ax, kind, **kwds)\u001b[0m\n\u001b[0;32m   1802\u001b[0m         \u001b[0mplot_obj\u001b[0m \u001b[1;33m=\u001b[0m \u001b[0mklass\u001b[0m\u001b[1;33m(\u001b[0m\u001b[0mdata\u001b[0m\u001b[1;33m,\u001b[0m \u001b[0msubplots\u001b[0m\u001b[1;33m=\u001b[0m\u001b[0msubplots\u001b[0m\u001b[1;33m,\u001b[0m \u001b[0max\u001b[0m\u001b[1;33m=\u001b[0m\u001b[0max\u001b[0m\u001b[1;33m,\u001b[0m \u001b[0mkind\u001b[0m\u001b[1;33m=\u001b[0m\u001b[0mkind\u001b[0m\u001b[1;33m,\u001b[0m \u001b[1;33m**\u001b[0m\u001b[0mkwds\u001b[0m\u001b[1;33m)\u001b[0m\u001b[1;33m\u001b[0m\u001b[1;33m\u001b[0m\u001b[0m\n\u001b[0;32m   1803\u001b[0m \u001b[1;33m\u001b[0m\u001b[0m\n\u001b[1;32m-> 1804\u001b[1;33m     \u001b[0mplot_obj\u001b[0m\u001b[1;33m.\u001b[0m\u001b[0mgenerate\u001b[0m\u001b[1;33m(\u001b[0m\u001b[1;33m)\u001b[0m\u001b[1;33m\u001b[0m\u001b[1;33m\u001b[0m\u001b[0m\n\u001b[0m\u001b[0;32m   1805\u001b[0m     \u001b[0mplot_obj\u001b[0m\u001b[1;33m.\u001b[0m\u001b[0mdraw\u001b[0m\u001b[1;33m(\u001b[0m\u001b[1;33m)\u001b[0m\u001b[1;33m\u001b[0m\u001b[1;33m\u001b[0m\u001b[0m\n\u001b[0;32m   1806\u001b[0m     \u001b[1;32mreturn\u001b[0m \u001b[0mplot_obj\u001b[0m\u001b[1;33m.\u001b[0m\u001b[0mresult\u001b[0m\u001b[1;33m\u001b[0m\u001b[1;33m\u001b[0m\u001b[0m\n",
      "\u001b[1;32m~\\Anaconda3\\lib\\site-packages\\pandas\\plotting\\_core.py\u001b[0m in \u001b[0;36mgenerate\u001b[1;34m(self)\u001b[0m\n\u001b[0;32m    256\u001b[0m     \u001b[1;32mdef\u001b[0m \u001b[0mgenerate\u001b[0m\u001b[1;33m(\u001b[0m\u001b[0mself\u001b[0m\u001b[1;33m)\u001b[0m\u001b[1;33m:\u001b[0m\u001b[1;33m\u001b[0m\u001b[1;33m\u001b[0m\u001b[0m\n\u001b[0;32m    257\u001b[0m         \u001b[0mself\u001b[0m\u001b[1;33m.\u001b[0m\u001b[0m_args_adjust\u001b[0m\u001b[1;33m(\u001b[0m\u001b[1;33m)\u001b[0m\u001b[1;33m\u001b[0m\u001b[1;33m\u001b[0m\u001b[0m\n\u001b[1;32m--> 258\u001b[1;33m         \u001b[0mself\u001b[0m\u001b[1;33m.\u001b[0m\u001b[0m_compute_plot_data\u001b[0m\u001b[1;33m(\u001b[0m\u001b[1;33m)\u001b[0m\u001b[1;33m\u001b[0m\u001b[1;33m\u001b[0m\u001b[0m\n\u001b[0m\u001b[0;32m    259\u001b[0m         \u001b[0mself\u001b[0m\u001b[1;33m.\u001b[0m\u001b[0m_setup_subplots\u001b[0m\u001b[1;33m(\u001b[0m\u001b[1;33m)\u001b[0m\u001b[1;33m\u001b[0m\u001b[1;33m\u001b[0m\u001b[0m\n\u001b[0;32m    260\u001b[0m         \u001b[0mself\u001b[0m\u001b[1;33m.\u001b[0m\u001b[0m_make_plot\u001b[0m\u001b[1;33m(\u001b[0m\u001b[1;33m)\u001b[0m\u001b[1;33m\u001b[0m\u001b[1;33m\u001b[0m\u001b[0m\n",
      "\u001b[1;32m~\\Anaconda3\\lib\\site-packages\\pandas\\plotting\\_core.py\u001b[0m in \u001b[0;36m_compute_plot_data\u001b[1;34m(self)\u001b[0m\n\u001b[0;32m    371\u001b[0m         \u001b[1;32mif\u001b[0m \u001b[0mis_empty\u001b[0m\u001b[1;33m:\u001b[0m\u001b[1;33m\u001b[0m\u001b[1;33m\u001b[0m\u001b[0m\n\u001b[0;32m    372\u001b[0m             raise TypeError('Empty {0!r}: no numeric data to '\n\u001b[1;32m--> 373\u001b[1;33m                             'plot'.format(numeric_data.__class__.__name__))\n\u001b[0m\u001b[0;32m    374\u001b[0m \u001b[1;33m\u001b[0m\u001b[0m\n\u001b[0;32m    375\u001b[0m         \u001b[0mself\u001b[0m\u001b[1;33m.\u001b[0m\u001b[0mdata\u001b[0m \u001b[1;33m=\u001b[0m \u001b[0mnumeric_data\u001b[0m\u001b[1;33m\u001b[0m\u001b[1;33m\u001b[0m\u001b[0m\n",
      "\u001b[1;31mTypeError\u001b[0m: Empty 'DataFrame': no numeric data to plot"
     ]
    }
   ],
   "source": [
    "day_fulfilled_df.plot(kind='bar')"
   ]
  },
  {
   "cell_type": "code",
   "execution_count": 60,
   "metadata": {},
   "outputs": [
    {
     "name": "stderr",
     "output_type": "stream",
     "text": [
      "C:\\Users\\Dell\\Anaconda3\\lib\\site-packages\\ipykernel_launcher.py:1: SettingWithCopyWarning: \n",
      "A value is trying to be set on a copy of a slice from a DataFrame.\n",
      "Try using .loc[row_indexer,col_indexer] = value instead\n",
      "\n",
      "See the caveats in the documentation: http://pandas.pydata.org/pandas-docs/stable/indexing.html#indexing-view-versus-copy\n",
      "  \"\"\"Entry point for launching an IPython kernel.\n"
     ]
    }
   ],
   "source": [
    "fulfilled_df['hour'] = fulfilled_df.date.dt.strftime('%H')"
   ]
  },
  {
   "cell_type": "code",
   "execution_count": 61,
   "metadata": {},
   "outputs": [],
   "source": [
    "hour_fulfilled_df = fulfilled_df['hour'].value_counts()"
   ]
  },
  {
   "cell_type": "code",
   "execution_count": 62,
   "metadata": {},
   "outputs": [
    {
     "name": "stdout",
     "output_type": "stream",
     "text": [
      "15    98029\n",
      "12    94238\n",
      "13    93408\n",
      "14    90233\n",
      "16    89684\n",
      "11    85410\n",
      "10    78451\n",
      "17    72581\n",
      "09    69849\n",
      "18    59825\n",
      "08    57786\n",
      "22    53075\n",
      "20    52852\n",
      "19    52736\n",
      "21    50948\n",
      "23    48431\n",
      "00    42652\n",
      "07    42227\n",
      "01    34260\n",
      "02    28637\n",
      "06    28217\n",
      "03    26566\n",
      "05    25035\n",
      "04    23780\n",
      "Name: hour, dtype: int64\n"
     ]
    }
   ],
   "source": [
    "print(hour_fulfilled_df)"
   ]
  },
  {
   "cell_type": "code",
   "execution_count": 63,
   "metadata": {},
   "outputs": [
    {
     "data": {
      "text/plain": [
       "<matplotlib.axes._subplots.AxesSubplot at 0x1da4cf3ab70>"
      ]
     },
     "execution_count": 63,
     "metadata": {},
     "output_type": "execute_result"
    },
    {
     "data": {
      "image/png": "[encoded data removed]",
      "text/plain": [
       "<Figure size 432x288 with 1 Axes>"
      ]
     },
     "metadata": {
      "needs_background": "light"
     },
     "output_type": "display_data"
    }
   ],
   "source": [
    "hour_fulfilled_df.plot(kind='bar')"
   ]
  },
  {
   "cell_type": "code",
   "execution_count": null,
   "metadata": {},
   "outputs": [],
   "source": []
  }
 ],
 "metadata": {
  "kernelspec": {
   "display_name": "Python 3",
   "language": "python",
   "name": "python3"
  },
  "language_info": {
   "codemirror_mode": {
    "name": "ipython",
    "version": 3
   },
   "file_extension": ".py",
   "mimetype": "text/x-python",
   "name": "python",
   "nbconvert_exporter": "python",
   "pygments_lexer": "ipython3",
   "version": "3.7.1"
  }
 },
 "nbformat": 4,
 "nbformat_minor": 2
}
